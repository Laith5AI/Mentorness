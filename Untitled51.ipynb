{
  "nbformat": 4,
  "nbformat_minor": 0,
  "metadata": {
    "colab": {
      "provenance": []
    },
    "kernelspec": {
      "name": "python3",
      "display_name": "Python 3"
    },
    "language_info": {
      "name": "python"
    }
  },
  "cells": [
    {
      "cell_type": "markdown",
      "source": [
        "\n",
        "#Import the necessary libraries\n"
      ],
      "metadata": {
        "id": "hG2ri2dY9pSq"
      }
    },
    {
      "cell_type": "code",
      "source": [
        "import pandas as pd\n",
        "from sklearn.model_selection import train_test_split\n",
        "from sklearn.preprocessing import LabelEncoder\n",
        "from sklearn.ensemble import RandomForestClassifier\n",
        "from sklearn.metrics import accuracy_score, precision_score, recall_score, f1_score"
      ],
      "metadata": {
        "id": "jZ40iemM_Ov1"
      },
      "execution_count": 1,
      "outputs": []
    },
    {
      "cell_type": "markdown",
      "source": [
        "# Load data"
      ],
      "metadata": {
        "id": "Vd_alISC_pTg"
      }
    },
    {
      "cell_type": "code",
      "source": [
        "train_data = pd.read_csv('/content/Train_data.csv')\n",
        "test_data = pd.read_csv('/content/test_data.csv')"
      ],
      "metadata": {
        "id": "YKLliD88_U2a"
      },
      "execution_count": 4,
      "outputs": []
    },
    {
      "cell_type": "markdown",
      "source": [
        "\n",
        "# Display data for verification"
      ],
      "metadata": {
        "id": "UI0CtSCzAR7U"
      }
    },
    {
      "cell_type": "code",
      "source": [
        "print(train_data.head())\n",
        "print(test_data.head())"
      ],
      "metadata": {
        "colab": {
          "base_uri": "https://localhost:8080/"
        },
        "id": "nZUsuGn1AS9n",
        "outputId": "b0193285-2b8f-4544-f329-db86478f6f7a"
      },
      "execution_count": 5,
      "outputs": [
        {
          "output_type": "stream",
          "name": "stdout",
          "text": [
            "    Glucose  Cholesterol  Hemoglobin  Platelets  White Blood Cells  \\\n",
            "0  0.739597     0.650198    0.713631   0.868491           0.687433   \n",
            "1  0.121786     0.023058    0.944893   0.905372           0.507711   \n",
            "2  0.452539     0.116135    0.544560   0.400640           0.294538   \n",
            "3  0.136609     0.015605    0.419957   0.191487           0.081168   \n",
            "4  0.176737     0.752220    0.971779   0.785286           0.443880   \n",
            "\n",
            "   Red Blood Cells  Hematocrit  Mean Corpuscular Volume  \\\n",
            "0         0.529895    0.290006                 0.631045   \n",
            "1         0.403033    0.164216                 0.307553   \n",
            "2         0.382021    0.625267                 0.295122   \n",
            "3         0.166214    0.073293                 0.668719   \n",
            "4         0.439851    0.894991                 0.442159   \n",
            "\n",
            "   Mean Corpuscular Hemoglobin  Mean Corpuscular Hemoglobin Concentration  \\\n",
            "0                     0.001328                                   0.795829   \n",
            "1                     0.207938                                   0.505562   \n",
            "2                     0.868369                                   0.026808   \n",
            "3                     0.125447                                   0.501051   \n",
            "4                     0.257288                                   0.805987   \n",
            "\n",
            "   ...     HbA1c  LDL Cholesterol  HDL Cholesterol       ALT       AST  \\\n",
            "0  ...  0.502665         0.215560         0.512941  0.064187  0.610827   \n",
            "1  ...  0.856810         0.652465         0.106961  0.942549  0.344261   \n",
            "2  ...  0.466795         0.387332         0.421763  0.007186  0.506918   \n",
            "3  ...  0.016256         0.040137         0.826721  0.265415  0.594148   \n",
            "4  ...  0.429431         0.146294         0.221574  0.015280  0.567115   \n",
            "\n",
            "   Heart Rate  Creatinine  Troponin  C-reactive Protein   Disease  \n",
            "0    0.939485    0.095512  0.465957            0.769230   Healthy  \n",
            "1    0.666368    0.659060  0.816982            0.401166  Diabetes  \n",
            "2    0.431704    0.417295  0.799074            0.779208  Thalasse  \n",
            "3    0.225756    0.490349  0.637061            0.354094    Anemia  \n",
            "4    0.841412    0.153350  0.794008            0.094970  Thalasse  \n",
            "\n",
            "[5 rows x 25 columns]\n",
            "    Glucose  Cholesterol  Hemoglobin  Platelets  White Blood Cells  \\\n",
            "0  0.001827     0.033693    0.114755   0.997927           0.562604   \n",
            "1  0.436679     0.972653    0.084998   0.180909           0.675736   \n",
            "2  0.545697     0.324815    0.584467   0.475748           0.558596   \n",
            "3  0.172994     0.050351    0.736000   0.782022           0.069435   \n",
            "4  0.758534     0.739968    0.597868   0.772683           0.875720   \n",
            "\n",
            "   Red Blood Cells  Hematocrit  Mean Corpuscular Volume  \\\n",
            "0         0.866499    0.578042                 0.914615   \n",
            "1         0.563889    0.798382                 0.670361   \n",
            "2         0.661007    0.934056                 0.381782   \n",
            "3         0.085219    0.032907                 0.460619   \n",
            "4         0.860265    0.486189                 0.486686   \n",
            "\n",
            "   Mean Corpuscular Hemoglobin  Mean Corpuscular Hemoglobin Concentration  \\\n",
            "0                     0.026864                                   0.038641   \n",
            "1                     0.376092                                   0.184890   \n",
            "2                     0.500342                                   0.531829   \n",
            "3                     0.785448                                   0.491495   \n",
            "4                     0.621048                                   0.191756   \n",
            "\n",
            "   ...     HbA1c  LDL Cholesterol  HDL Cholesterol       ALT       AST  \\\n",
            "0  ...  0.653230         0.186104         0.430398  0.016678  0.885352   \n",
            "1  ...  0.833540         0.153001         0.458533  0.401845  0.635969   \n",
            "2  ...  0.678901         0.220479         0.817151  0.690981  0.101633   \n",
            "3  ...  0.381500         0.459396         0.420154  0.798537  0.399236   \n",
            "4  ...  0.993381         0.272338         0.663579  0.265227  0.918847   \n",
            "\n",
            "   Heart Rate  Creatinine  Troponin  C-reactive Protein   Disease  \n",
            "0    0.652733    0.788235  0.054788            0.031313  Thalasse  \n",
            "1    0.574425    0.047025  0.607985            0.594123  Diabetes  \n",
            "2    0.855740    0.551124  0.413294            0.070909  Heart Di  \n",
            "3    0.324600    0.499504  0.436662            0.242766  Diabetes  \n",
            "4    0.804910    0.571119  0.188368            0.750848  Heart Di  \n",
            "\n",
            "[5 rows x 25 columns]\n"
          ]
        }
      ]
    },
    {
      "cell_type": "markdown",
      "source": [
        "# Ensure there are no missing values"
      ],
      "metadata": {
        "id": "qSfoFy3AAq8E"
      }
    },
    {
      "cell_type": "code",
      "source": [
        "print(\"Missing values in train data:\")\n",
        "print(train_data.isnull().sum())\n",
        "print(\"Missing values in test data:\")\n",
        "print(test_data.isnull().sum())"
      ],
      "metadata": {
        "colab": {
          "base_uri": "https://localhost:8080/"
        },
        "id": "ufTA57grA2OD",
        "outputId": "c1e384c8-a1d7-4910-e5d6-4f01e91c9ba2"
      },
      "execution_count": 6,
      "outputs": [
        {
          "output_type": "stream",
          "name": "stdout",
          "text": [
            "Missing values in train data:\n",
            "Glucose                                      0\n",
            "Cholesterol                                  0\n",
            "Hemoglobin                                   0\n",
            "Platelets                                    0\n",
            "White Blood Cells                            0\n",
            "Red Blood Cells                              0\n",
            "Hematocrit                                   0\n",
            "Mean Corpuscular Volume                      0\n",
            "Mean Corpuscular Hemoglobin                  0\n",
            "Mean Corpuscular Hemoglobin Concentration    0\n",
            "Insulin                                      0\n",
            "BMI                                          0\n",
            "Systolic Blood Pressure                      0\n",
            "Diastolic Blood Pressure                     0\n",
            "Triglycerides                                0\n",
            "HbA1c                                        0\n",
            "LDL Cholesterol                              0\n",
            "HDL Cholesterol                              0\n",
            "ALT                                          0\n",
            "AST                                          0\n",
            "Heart Rate                                   0\n",
            "Creatinine                                   0\n",
            "Troponin                                     0\n",
            "C-reactive Protein                           0\n",
            "Disease                                      0\n",
            "dtype: int64\n",
            "Missing values in test data:\n",
            "Glucose                                      0\n",
            "Cholesterol                                  0\n",
            "Hemoglobin                                   0\n",
            "Platelets                                    0\n",
            "White Blood Cells                            0\n",
            "Red Blood Cells                              0\n",
            "Hematocrit                                   0\n",
            "Mean Corpuscular Volume                      0\n",
            "Mean Corpuscular Hemoglobin                  0\n",
            "Mean Corpuscular Hemoglobin Concentration    0\n",
            "Insulin                                      0\n",
            "BMI                                          0\n",
            "Systolic Blood Pressure                      0\n",
            "Diastolic Blood Pressure                     0\n",
            "Triglycerides                                0\n",
            "HbA1c                                        0\n",
            "LDL Cholesterol                              0\n",
            "HDL Cholesterol                              0\n",
            "ALT                                          0\n",
            "AST                                          0\n",
            "Heart Rate                                   0\n",
            "Creatinine                                   0\n",
            "Troponin                                     0\n",
            "C-reactive Protein                           0\n",
            "Disease                                      0\n",
            "dtype: int64\n"
          ]
        }
      ]
    },
    {
      "cell_type": "markdown",
      "source": [
        "# Check for unique values ​​in 'Disease' column in both training and test sets"
      ],
      "metadata": {
        "id": "M2DVW-UaLi9P"
      }
    },
    {
      "cell_type": "code",
      "source": [
        "train_disease_unique = train_data['Disease'].unique()\n",
        "test_disease_unique = test_data['Disease'].unique()\n",
        "print(\"Unique values in 'Disease' column in train data:\", train_disease_unique)\n",
        "print(\"Unique values in 'Disease' column in test data:\", test_disease_unique)"
      ],
      "metadata": {
        "colab": {
          "base_uri": "https://localhost:8080/"
        },
        "id": "emvAmJ7xA-Q7",
        "outputId": "1905552b-0c49-4788-b7eb-6e659cead5ce"
      },
      "execution_count": 7,
      "outputs": [
        {
          "output_type": "stream",
          "name": "stdout",
          "text": [
            "Unique values in 'Disease' column in train data: ['Healthy' 'Diabetes' 'Thalasse' 'Anemia' 'Thromboc']\n",
            "Unique values in 'Disease' column in test data: ['Thalasse' 'Diabetes' 'Heart Di' 'Anemia' 'Thromboc' 'Healthy']\n"
          ]
        }
      ]
    },
    {
      "cell_type": "markdown",
      "source": [
        "# Ensure that all unique values ​​in the test set are in the training set"
      ],
      "metadata": {
        "id": "sl_NZNFTMKVF"
      }
    },
    {
      "cell_type": "code",
      "source": [
        "new_disease_labels = set(test_disease_unique) - set(train_disease_unique)\n",
        "if new_disease_labels:\n",
        "    print(\"Warning: The following labels in the test data are not present in the training data:\", new_disease_labels)"
      ],
      "metadata": {
        "colab": {
          "base_uri": "https://localhost:8080/"
        },
        "id": "1b7lnY42MISt",
        "outputId": "41bb7178-2e11-4c2e-c5c3-34ca9bab257f"
      },
      "execution_count": 8,
      "outputs": [
        {
          "output_type": "stream",
          "name": "stdout",
          "text": [
            "Warning: The following labels in the test data are not present in the training data: {'Heart Di'}\n"
          ]
        }
      ]
    },
    {
      "cell_type": "markdown",
      "source": [
        "Encode column 'Disease' using LabelEncoder\n"
      ],
      "metadata": {
        "id": "c9VBBmJMMlEj"
      }
    },
    {
      "cell_type": "code",
      "source": [
        "label_encoder = LabelEncoder()\n",
        "train_data['Disease'] = label_encoder.fit_transform(train_data['Disease'])"
      ],
      "metadata": {
        "id": "Qux92oAlNnE1"
      },
      "execution_count": 9,
      "outputs": []
    },
    {
      "cell_type": "markdown",
      "source": [
        "\n",
        "# Handle new values ​​in the test set\n",
        "# We can ignore rows with unknown labels or assign their own value"
      ],
      "metadata": {
        "id": "AdZnwJVwPKDp"
      }
    },
    {
      "cell_type": "code",
      "source": [
        "known_labels = set(label_encoder.classes_)\n",
        "def encode_disease(value):\n",
        "    if value in known_labels:\n",
        "        return label_encoder.transform([value])[0]\n",
        "    else:\n",
        "        return -1"
      ],
      "metadata": {
        "id": "a6b_kP1XN9Ok"
      },
      "execution_count": 10,
      "outputs": []
    },
    {
      "cell_type": "code",
      "source": [
        "\n",
        "\n",
        "test_data['Disease'] = test_data['Disease'].apply(encode_disease)\n"
      ],
      "metadata": {
        "id": "nW4U4NDzPdqB"
      },
      "execution_count": 11,
      "outputs": []
    },
    {
      "cell_type": "markdown",
      "source": [
        "# Check unique values ​​after encoding"
      ],
      "metadata": {
        "id": "VMJSuH4yPvd7"
      }
    },
    {
      "cell_type": "code",
      "source": [
        "print(\"Unique values in 'Disease' column after encoding in train data:\", train_data['Disease'].unique())\n",
        "print(\"Unique values in 'Disease' column after encoding in test data:\", test_data['Disease'].unique())"
      ],
      "metadata": {
        "colab": {
          "base_uri": "https://localhost:8080/"
        },
        "id": "Akt1iM4gPuk6",
        "outputId": "f39eced1-f508-4b55-a2b5-539b0a1017bc"
      },
      "execution_count": 12,
      "outputs": [
        {
          "output_type": "stream",
          "name": "stdout",
          "text": [
            "Unique values in 'Disease' column after encoding in train data: [2 1 3 0 4]\n",
            "Unique values in 'Disease' column after encoding in test data: [ 3  1 -1  0  4  2]\n"
          ]
        }
      ]
    },
    {
      "cell_type": "markdown",
      "source": [
        "\n",
        "# Remove rows containing unknown values ​​(-1)"
      ],
      "metadata": {
        "id": "Y39uRC7YQOkn"
      }
    },
    {
      "cell_type": "code",
      "source": [
        "test_data = test_data[test_data['Disease'] != -1]"
      ],
      "metadata": {
        "id": "H3ClIKFKQPiS"
      },
      "execution_count": 13,
      "outputs": []
    },
    {
      "cell_type": "markdown",
      "source": [
        "# Separate data into Features and Target"
      ],
      "metadata": {
        "id": "Q69nMBhSQxis"
      }
    },
    {
      "cell_type": "code",
      "source": [
        "X_train = train_data.drop('Disease', axis=1)\n",
        "y_train = train_data['Disease']\n",
        "X_test = test_data.drop('Disease', axis=1)\n",
        "y_test = test_data['Disease']"
      ],
      "metadata": {
        "id": "NWPi1w0JQyOk"
      },
      "execution_count": 14,
      "outputs": []
    },
    {
      "cell_type": "markdown",
      "source": [
        "\n",
        "# Train the model"
      ],
      "metadata": {
        "id": "UgNPloWLQ51R"
      }
    },
    {
      "cell_type": "code",
      "source": [
        "model = RandomForestClassifier(random_state=42)\n",
        "model.fit(X_train, y_train)"
      ],
      "metadata": {
        "colab": {
          "base_uri": "https://localhost:8080/",
          "height": 74
        },
        "id": "igdwIjqLRClr",
        "outputId": "b9fa922a-6cfa-4b75-91e9-21286bd3e721"
      },
      "execution_count": 15,
      "outputs": [
        {
          "output_type": "execute_result",
          "data": {
            "text/plain": [
              "RandomForestClassifier(random_state=42)"
            ],
            "text/html": [
              "<style>#sk-container-id-1 {color: black;background-color: white;}#sk-container-id-1 pre{padding: 0;}#sk-container-id-1 div.sk-toggleable {background-color: white;}#sk-container-id-1 label.sk-toggleable__label {cursor: pointer;display: block;width: 100%;margin-bottom: 0;padding: 0.3em;box-sizing: border-box;text-align: center;}#sk-container-id-1 label.sk-toggleable__label-arrow:before {content: \"▸\";float: left;margin-right: 0.25em;color: #696969;}#sk-container-id-1 label.sk-toggleable__label-arrow:hover:before {color: black;}#sk-container-id-1 div.sk-estimator:hover label.sk-toggleable__label-arrow:before {color: black;}#sk-container-id-1 div.sk-toggleable__content {max-height: 0;max-width: 0;overflow: hidden;text-align: left;background-color: #f0f8ff;}#sk-container-id-1 div.sk-toggleable__content pre {margin: 0.2em;color: black;border-radius: 0.25em;background-color: #f0f8ff;}#sk-container-id-1 input.sk-toggleable__control:checked~div.sk-toggleable__content {max-height: 200px;max-width: 100%;overflow: auto;}#sk-container-id-1 input.sk-toggleable__control:checked~label.sk-toggleable__label-arrow:before {content: \"▾\";}#sk-container-id-1 div.sk-estimator input.sk-toggleable__control:checked~label.sk-toggleable__label {background-color: #d4ebff;}#sk-container-id-1 div.sk-label input.sk-toggleable__control:checked~label.sk-toggleable__label {background-color: #d4ebff;}#sk-container-id-1 input.sk-hidden--visually {border: 0;clip: rect(1px 1px 1px 1px);clip: rect(1px, 1px, 1px, 1px);height: 1px;margin: -1px;overflow: hidden;padding: 0;position: absolute;width: 1px;}#sk-container-id-1 div.sk-estimator {font-family: monospace;background-color: #f0f8ff;border: 1px dotted black;border-radius: 0.25em;box-sizing: border-box;margin-bottom: 0.5em;}#sk-container-id-1 div.sk-estimator:hover {background-color: #d4ebff;}#sk-container-id-1 div.sk-parallel-item::after {content: \"\";width: 100%;border-bottom: 1px solid gray;flex-grow: 1;}#sk-container-id-1 div.sk-label:hover label.sk-toggleable__label {background-color: #d4ebff;}#sk-container-id-1 div.sk-serial::before {content: \"\";position: absolute;border-left: 1px solid gray;box-sizing: border-box;top: 0;bottom: 0;left: 50%;z-index: 0;}#sk-container-id-1 div.sk-serial {display: flex;flex-direction: column;align-items: center;background-color: white;padding-right: 0.2em;padding-left: 0.2em;position: relative;}#sk-container-id-1 div.sk-item {position: relative;z-index: 1;}#sk-container-id-1 div.sk-parallel {display: flex;align-items: stretch;justify-content: center;background-color: white;position: relative;}#sk-container-id-1 div.sk-item::before, #sk-container-id-1 div.sk-parallel-item::before {content: \"\";position: absolute;border-left: 1px solid gray;box-sizing: border-box;top: 0;bottom: 0;left: 50%;z-index: -1;}#sk-container-id-1 div.sk-parallel-item {display: flex;flex-direction: column;z-index: 1;position: relative;background-color: white;}#sk-container-id-1 div.sk-parallel-item:first-child::after {align-self: flex-end;width: 50%;}#sk-container-id-1 div.sk-parallel-item:last-child::after {align-self: flex-start;width: 50%;}#sk-container-id-1 div.sk-parallel-item:only-child::after {width: 0;}#sk-container-id-1 div.sk-dashed-wrapped {border: 1px dashed gray;margin: 0 0.4em 0.5em 0.4em;box-sizing: border-box;padding-bottom: 0.4em;background-color: white;}#sk-container-id-1 div.sk-label label {font-family: monospace;font-weight: bold;display: inline-block;line-height: 1.2em;}#sk-container-id-1 div.sk-label-container {text-align: center;}#sk-container-id-1 div.sk-container {/* jupyter's `normalize.less` sets `[hidden] { display: none; }` but bootstrap.min.css set `[hidden] { display: none !important; }` so we also need the `!important` here to be able to override the default hidden behavior on the sphinx rendered scikit-learn.org. See: https://github.com/scikit-learn/scikit-learn/issues/21755 */display: inline-block !important;position: relative;}#sk-container-id-1 div.sk-text-repr-fallback {display: none;}</style><div id=\"sk-container-id-1\" class=\"sk-top-container\"><div class=\"sk-text-repr-fallback\"><pre>RandomForestClassifier(random_state=42)</pre><b>In a Jupyter environment, please rerun this cell to show the HTML representation or trust the notebook. <br />On GitHub, the HTML representation is unable to render, please try loading this page with nbviewer.org.</b></div><div class=\"sk-container\" hidden><div class=\"sk-item\"><div class=\"sk-estimator sk-toggleable\"><input class=\"sk-toggleable__control sk-hidden--visually\" id=\"sk-estimator-id-1\" type=\"checkbox\" checked><label for=\"sk-estimator-id-1\" class=\"sk-toggleable__label sk-toggleable__label-arrow\">RandomForestClassifier</label><div class=\"sk-toggleable__content\"><pre>RandomForestClassifier(random_state=42)</pre></div></div></div></div></div>"
            ]
          },
          "metadata": {},
          "execution_count": 15
        }
      ]
    },
    {
      "cell_type": "markdown",
      "source": [
        "\n",
        "# Prediction using the trained model"
      ],
      "metadata": {
        "id": "IUWDoP8TSKZb"
      }
    },
    {
      "cell_type": "code",
      "source": [
        "y_pred = model.predict(X_test)\n"
      ],
      "metadata": {
        "id": "XJkSNCDASNWp"
      },
      "execution_count": 19,
      "outputs": []
    },
    {
      "cell_type": "markdown",
      "source": [
        "\n",
        "# Calculate metrics"
      ],
      "metadata": {
        "id": "X6Yy3iEJSBz-"
      }
    },
    {
      "cell_type": "code",
      "source": [
        "accuracy = accuracy_score(y_test, y_pred)\n",
        "precision = precision_score(y_test, y_pred, average='weighted')\n",
        "recall = recall_score(y_test, y_pred, average='weighted')\n",
        "f1 = f1_score(y_test, y_pred, average='weighted')"
      ],
      "metadata": {
        "id": "7RsDreGQSj0d"
      },
      "execution_count": 20,
      "outputs": []
    },
    {
      "cell_type": "markdown",
      "source": [
        "# Show results\n"
      ],
      "metadata": {
        "id": "diTmO4d7SrYq"
      }
    },
    {
      "cell_type": "code",
      "source": [
        "print(f'Accuracy: {accuracy}')\n",
        "print(f'Precision: {precision}')\n",
        "print(f'Recall: {recall}')\n",
        "print(f'F1-score: {f1}')"
      ],
      "metadata": {
        "colab": {
          "base_uri": "https://localhost:8080/"
        },
        "id": "Pw4NC2t_SsV6",
        "outputId": "10c4423a-a666-48b4-92bb-48b4fab81e0a"
      },
      "execution_count": 21,
      "outputs": [
        {
          "output_type": "stream",
          "name": "stdout",
          "text": [
            "Accuracy: 0.5011185682326622\n",
            "Precision: 0.5887324762491151\n",
            "Recall: 0.5011185682326622\n",
            "F1-score: 0.5288173422401611\n"
          ]
        }
      ]
    }
  ]
}